{
  "nbformat": 4,
  "nbformat_minor": 0,
  "metadata": {
    "colab": {
      "provenance": [],
      "gpuType": "T4"
    },
    "kernelspec": {
      "name": "python3",
      "display_name": "Python 3"
    },
    "language_info": {
      "name": "python"
    },
    "accelerator": "GPU"
  },
  "cells": [
    {
      "cell_type": "code",
      "source": [
        "!pip install -Uq openai-agents"
      ],
      "metadata": {
        "id": "3QdkOviEB2ay"
      },
      "execution_count": 3,
      "outputs": []
    },
    {
      "cell_type": "code",
      "execution_count": 10,
      "metadata": {
        "id": "eziZWaVPicQF"
      },
      "outputs": [],
      "source": [
        "from agents import Agent\n",
        "\n",
        "agent = Agent(\n",
        "    name=\"Math Tutor\",\n",
        "    instructions=\"You provide help with math problems. Explain your reasoning at each step and include examples\",\n",
        ")"
      ]
    },
    {
      "cell_type": "markdown",
      "source": [
        "# **Basic configuration**\n",
        "\n",
        "The most common properties of an agent you'll configure are:\n",
        "\n",
        "1. instructions: also known as a developer message or system prompt.\n",
        "2. model: which LLM to use, and optional model_settings to configure model tuning parameters like temperature, top_p, etc.\n",
        "3. tools: Tools that the agent can use to achieve its tasks."
      ],
      "metadata": {
        "id": "wgAgabSzjOUh"
      }
    },
    {
      "cell_type": "code",
      "source": [
        "from agents import Agent, ModelSettings, function_tool\n",
        "\n",
        "@function_tool\n",
        "def get_weather(city: str) -> str:\n",
        "    return f\"The weather in {city} is sunny\"\n",
        "\n",
        "agent = Agent(\n",
        "    name=\"Haiku agent\",\n",
        "    instructions=\"Always respond in haiku form\",\n",
        "    model=\"o3-mini\",\n",
        "    tools=[get_weather],\n",
        ")"
      ],
      "metadata": {
        "id": "YTw8Hh2-jOCh"
      },
      "execution_count": 9,
      "outputs": []
    }
  ]
}